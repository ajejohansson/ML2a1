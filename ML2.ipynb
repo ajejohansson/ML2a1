{
 "cells": [
  {
   "cell_type": "code",
   "execution_count": 1,
   "metadata": {},
   "outputs": [],
   "source": [
    "import os\n",
    "import sys\n",
    "import torch\n",
    "import torch.nn as nn\n",
    "from torch.utils.data import Dataset, random_split\n",
    "import PIL\n",
    "import pandas as pd\n",
    "from sklearn.model_selection import train_test_split\n",
    "from torchvision.io import read_image\n",
    "from itertools import chain\n",
    "\n",
    "if torch.cuda.is_available():\n",
    "    device = torch.device('cuda:1')\n",
    "else:\n",
    "    device = torch.device('cpu')"
   ]
  },
  {
   "cell_type": "code",
   "execution_count": 2,
   "metadata": {},
   "outputs": [],
   "source": [
    "if torch.cuda.is_available():\n",
    "    device = torch.device('cuda:1')\n",
    "else:\n",
    "    device = torch.device('cpu')"
   ]
  },
  {
   "cell_type": "code",
   "execution_count": 3,
   "metadata": {},
   "outputs": [
    {
     "name": "stdout",
     "output_type": "stream",
     "text": [
      "cuda:1\n"
     ]
    }
   ],
   "source": [
    "print(device)"
   ]
  },
  {
   "cell_type": "code",
   "execution_count": 53,
   "metadata": {},
   "outputs": [
    {
     "name": "stdout",
     "output_type": "stream",
     "text": [
      "Generating data splits for combined Thai + English...\n",
      "If a single subset is sought, run with 'Thai', 'English', 'Special', or 'Numeric' as arg 1.\n",
      "3\n"
     ]
    },
    {
     "ename": "TypeError",
     "evalue": "object of type 'function' has no len()",
     "output_type": "error",
     "traceback": [
      "\u001b[0;31m---------------------------------------------------------------------------\u001b[0m",
      "\u001b[0;31mTypeError\u001b[0m                                 Traceback (most recent call last)",
      "Cell \u001b[0;32mIn[53], line 1\u001b[0m\n\u001b[0;32m----> 1\u001b[0m \u001b[38;5;28;01mfrom\u001b[39;00m \u001b[38;5;21;01mML2\u001b[39;00m \u001b[38;5;28;01mimport\u001b[39;00m generate_split, ThaiOCRData\n",
      "File \u001b[0;32m/srv/data/gusvjotvan/ML2/ML2.py:141\u001b[0m\n\u001b[1;32m    129\u001b[0m     \u001b[38;5;28mprint\u001b[39m(\u001b[38;5;28mlen\u001b[39m(train_test_split[\u001b[38;5;241m0\u001b[39m]))\n\u001b[1;32m    130\u001b[0m     \u001b[38;5;66;03m#for item in train_test_val:\u001b[39;00m\n\u001b[1;32m    131\u001b[0m     \u001b[38;5;66;03m#    print(item)\u001b[39;00m\n\u001b[1;32m    132\u001b[0m     \u001b[38;5;66;03m#train, test, val = []\u001b[39;00m\n\u001b[0;32m   (...)\u001b[0m\n\u001b[1;32m    138\u001b[0m \u001b[38;5;66;03m#print(df)\u001b[39;00m\n\u001b[1;32m    139\u001b[0m \u001b[38;5;66;03m#print('PASSED')\u001b[39;00m\n\u001b[0;32m--> 141\u001b[0m \u001b[43mgenerate_split\u001b[49m\u001b[43m(\u001b[49m\u001b[43mtraining_dir\u001b[49m\u001b[43m)\u001b[49m\n\u001b[1;32m    143\u001b[0m \u001b[38;5;28;01mclass\u001b[39;00m \u001b[38;5;21;01mThaiOCRData\u001b[39;00m(Dataset):\n\u001b[1;32m    144\u001b[0m     \u001b[38;5;28;01mdef\u001b[39;00m \u001b[38;5;21m__init__\u001b[39m(\u001b[38;5;28mself\u001b[39m, subdir):\n",
      "File \u001b[0;32m/srv/data/gusvjotvan/ML2/ML2.py:128\u001b[0m, in \u001b[0;36mgenerate_split\u001b[0;34m(parent_dir)\u001b[0m\n\u001b[1;32m    126\u001b[0m \u001b[38;5;66;03m#concat_split = []\u001b[39;00m\n\u001b[1;32m    127\u001b[0m train_test_val \u001b[38;5;241m=\u001b[39m \u001b[38;5;28mlist\u001b[39m(\u001b[38;5;28mzip\u001b[39m(subset_splits))\n\u001b[0;32m--> 128\u001b[0m \u001b[38;5;28mprint\u001b[39m(\u001b[38;5;28;43mlen\u001b[39;49m\u001b[43m(\u001b[49m\u001b[43mtrain_test_split\u001b[49m\u001b[43m)\u001b[49m)\n\u001b[1;32m    129\u001b[0m \u001b[38;5;28mprint\u001b[39m(\u001b[38;5;28mlen\u001b[39m(train_test_split[\u001b[38;5;241m0\u001b[39m]))\n",
      "\u001b[0;31mTypeError\u001b[0m: object of type 'function' has no len()"
     ]
    }
   ],
   "source": [
    "from ML2 import generate_split, ThaiOCRData"
   ]
  },
  {
   "cell_type": "code",
   "execution_count": 54,
   "metadata": {},
   "outputs": [],
   "source": [
    "training_dir = os.path.abspath(\"/scratch/lt2326-2926-h24/ThaiOCR/ThaiOCR-TrainigSet\")"
   ]
  },
  {
   "cell_type": "code",
   "execution_count": 6,
   "metadata": {},
   "outputs": [
    {
     "data": {
      "text/plain": [
       "1"
      ]
     },
     "execution_count": 6,
     "metadata": {},
     "output_type": "execute_result"
    }
   ],
   "source": [
    "a = (\"ddsdsad\",)\n",
    "len(a)"
   ]
  },
  {
   "cell_type": "code",
   "execution_count": 55,
   "metadata": {},
   "outputs": [
    {
     "name": "stdout",
     "output_type": "stream",
     "text": [
      "Generating data splits for combined Thai + English...\n",
      "If a single subset is sought, run with 'Thai', 'English', 'Special', or 'Numeric' as arg 1.\n"
     ]
    }
   ],
   "source": [
    "df, train, walking = generate_split(training_dir)\n"
   ]
  },
  {
   "cell_type": "code",
   "execution_count": 4,
   "metadata": {},
   "outputs": [],
   "source": [
    "subset_splits = []"
   ]
  },
  {
   "cell_type": "code",
   "execution_count": null,
   "metadata": {},
   "outputs": [],
   "source": [
    "subset_splits.append([((),), ('engtestlabel', 'engtestpic'), ('engvallabel', 'engvalpic')])\n",
    "subset_splits.append([('thaitrainlabel', 'thaitrainpic'), ('thaitestlabel', 'thaitestpic'), ('thaivallabel', 'thaivalpic')])"
   ]
  },
  {
   "cell_type": "code",
   "execution_count": 5,
   "metadata": {},
   "outputs": [],
   "source": [
    "subset_splits.append([('engtrainlabel', 'engtrainpic'), ('engtestlabel', 'engtestpic'), ('engvallabel', 'engvalpic')])\n",
    "subset_splits.append([('thaitrainlabel', 'thaitrainpic'), ('thaitestlabel', 'thaitestpic'), ('thaivallabel', 'thaivalpic')])"
   ]
  },
  {
   "cell_type": "code",
   "execution_count": 6,
   "metadata": {},
   "outputs": [],
   "source": [
    "\n",
    "\n",
    "zipped = list(zip(*subset_splits))\n",
    "\n",
    "#list(zip(subset_splits))"
   ]
  },
  {
   "cell_type": "code",
   "execution_count": 7,
   "metadata": {},
   "outputs": [
    {
     "data": {
      "text/plain": [
       "[(('engtrainlabel', 'engtrainpic'), ('thaitrainlabel', 'thaitrainpic')),\n",
       " (('engtestlabel', 'engtestpic'), ('thaitestlabel', 'thaitestpic')),\n",
       " (('engvallabel', 'engvalpic'), ('thaivallabel', 'thaivalpic'))]"
      ]
     },
     "execution_count": 7,
     "metadata": {},
     "output_type": "execute_result"
    }
   ],
   "source": [
    "zipped"
   ]
  },
  {
   "cell_type": "code",
   "execution_count": 40,
   "metadata": {},
   "outputs": [
    {
     "data": {
      "text/plain": [
       "('etrain', 'ttrain')"
      ]
     },
     "execution_count": 40,
     "metadata": {},
     "output_type": "execute_result"
    }
   ],
   "source": [
    "zipped[0]"
   ]
  },
  {
   "cell_type": "code",
   "execution_count": 41,
   "metadata": {},
   "outputs": [
    {
     "data": {
      "text/plain": [
       "2"
      ]
     },
     "execution_count": 41,
     "metadata": {},
     "output_type": "execute_result"
    }
   ],
   "source": [
    "len(zipped[0])"
   ]
  },
  {
   "cell_type": "code",
   "execution_count": 8,
   "metadata": {},
   "outputs": [],
   "source": [
    "\n",
    "\n",
    "data_split = [tuple(chain(*split)) for split in zip(*subset_splits)]\n",
    "\n",
    "#numbers = list(chain(odd, even))"
   ]
  },
  {
   "cell_type": "code",
   "execution_count": 9,
   "metadata": {},
   "outputs": [
    {
     "data": {
      "text/plain": [
       "[('engtrainlabel', 'engtrainpic', 'thaitrainlabel', 'thaitrainpic'),\n",
       " ('engtestlabel', 'engtestpic', 'thaitestlabel', 'thaitestpic'),\n",
       " ('engvallabel', 'engvalpic', 'thaivallabel', 'thaivalpic')]"
      ]
     },
     "execution_count": 9,
     "metadata": {},
     "output_type": "execute_result"
    }
   ],
   "source": [
    "data_split"
   ]
  },
  {
   "cell_type": "code",
   "execution_count": null,
   "metadata": {},
   "outputs": [],
   "source": [
    "[train, test, valid list(zip(*subset_splits))]"
   ]
  },
  {
   "cell_type": "code",
   "execution_count": 22,
   "metadata": {},
   "outputs": [
    {
     "data": {
      "text/plain": [
       "[('etrain', 'ttrain'), ('etest', 'ttest'), ('eval', 'teval')]"
      ]
     },
     "execution_count": 22,
     "metadata": {},
     "output_type": "execute_result"
    }
   ],
   "source": [
    "list(zip(('etrain', 'etest', 'eval'), ('ttrain', 'ttest', 'teval')))"
   ]
  },
  {
   "cell_type": "code",
   "execution_count": null,
   "metadata": {},
   "outputs": [],
   "source": []
  },
  {
   "cell_type": "code",
   "execution_count": 56,
   "metadata": {},
   "outputs": [
    {
     "data": {
      "text/html": [
       "<div>\n",
       "<style scoped>\n",
       "    .dataframe tbody tr th:only-of-type {\n",
       "        vertical-align: middle;\n",
       "    }\n",
       "\n",
       "    .dataframe tbody tr th {\n",
       "        vertical-align: top;\n",
       "    }\n",
       "\n",
       "    .dataframe thead th {\n",
       "        text-align: right;\n",
       "    }\n",
       "</style>\n",
       "<table border=\"1\" class=\"dataframe\">\n",
       "  <thead>\n",
       "    <tr style=\"text-align: right;\">\n",
       "      <th></th>\n",
       "      <th>KKTS211_200_41_08_199.bmp</th>\n",
       "      <th>PPTS211_200_41_10_199.bmp</th>\n",
       "      <th>Cdts213_200_41_22_199.bmp</th>\n",
       "      <th>Cdts212_200_41_18_199.bmp</th>\n",
       "      <th>Cdtb213_200_40_20_199.bmp</th>\n",
       "      <th>Ects211_200_41_08_199.bmp</th>\n",
       "      <th>FSTB213_200_40_22_199.bmp</th>\n",
       "      <th>KKTB212_200_40_22_199.bmp</th>\n",
       "      <th>IRTB213_200_40_22_199.bmp</th>\n",
       "      <th>PPTB212_200_40_16_199.bmp</th>\n",
       "      <th>...</th>\n",
       "      <th>BWEB311_300_10_08_075.bmp</th>\n",
       "      <th>DLES322_300_11_16_075.bmp</th>\n",
       "      <th>JMEB311_300_10_08_075.bmp</th>\n",
       "      <th>JMEB321_300_10_10_075.bmp</th>\n",
       "      <th>KKES312_300_11_18_075.bmp</th>\n",
       "      <th>CDES322_300_11_16_075.bmp</th>\n",
       "      <th>ASEB321_300_10_10_075.bmp</th>\n",
       "      <th>ASES323_300_11_22_075.bmp</th>\n",
       "      <th>DLEB311_300_10_14_075.bmp</th>\n",
       "      <th>BWEB321_300_10_10_075.bmp</th>\n",
       "    </tr>\n",
       "  </thead>\n",
       "  <tbody>\n",
       "    <tr>\n",
       "      <th>label</th>\n",
       "      <td>199</td>\n",
       "      <td>199</td>\n",
       "      <td>199</td>\n",
       "      <td>199</td>\n",
       "      <td>199</td>\n",
       "      <td>199</td>\n",
       "      <td>199</td>\n",
       "      <td>199</td>\n",
       "      <td>199</td>\n",
       "      <td>199</td>\n",
       "      <td>...</td>\n",
       "      <td>075</td>\n",
       "      <td>075</td>\n",
       "      <td>075</td>\n",
       "      <td>075</td>\n",
       "      <td>075</td>\n",
       "      <td>075</td>\n",
       "      <td>075</td>\n",
       "      <td>075</td>\n",
       "      <td>075</td>\n",
       "      <td>075</td>\n",
       "    </tr>\n",
       "    <tr>\n",
       "      <th>dpi</th>\n",
       "      <td>200</td>\n",
       "      <td>200</td>\n",
       "      <td>200</td>\n",
       "      <td>200</td>\n",
       "      <td>200</td>\n",
       "      <td>200</td>\n",
       "      <td>200</td>\n",
       "      <td>200</td>\n",
       "      <td>200</td>\n",
       "      <td>200</td>\n",
       "      <td>...</td>\n",
       "      <td>300</td>\n",
       "      <td>300</td>\n",
       "      <td>300</td>\n",
       "      <td>300</td>\n",
       "      <td>300</td>\n",
       "      <td>300</td>\n",
       "      <td>300</td>\n",
       "      <td>300</td>\n",
       "      <td>300</td>\n",
       "      <td>300</td>\n",
       "    </tr>\n",
       "    <tr>\n",
       "      <th>typeface</th>\n",
       "      <td>bold_italic</td>\n",
       "      <td>bold_italic</td>\n",
       "      <td>bold_italic</td>\n",
       "      <td>bold_italic</td>\n",
       "      <td>bold_italic</td>\n",
       "      <td>bold_italic</td>\n",
       "      <td>bold_italic</td>\n",
       "      <td>bold_italic</td>\n",
       "      <td>bold_italic</td>\n",
       "      <td>bold_italic</td>\n",
       "      <td>...</td>\n",
       "      <td>normal</td>\n",
       "      <td>normal</td>\n",
       "      <td>normal</td>\n",
       "      <td>normal</td>\n",
       "      <td>normal</td>\n",
       "      <td>normal</td>\n",
       "      <td>normal</td>\n",
       "      <td>normal</td>\n",
       "      <td>normal</td>\n",
       "      <td>normal</td>\n",
       "    </tr>\n",
       "  </tbody>\n",
       "</table>\n",
       "<p>3 rows × 489157 columns</p>\n",
       "</div>"
      ],
      "text/plain": [
       "         KKTS211_200_41_08_199.bmp PPTS211_200_41_10_199.bmp  \\\n",
       "label                          199                       199   \n",
       "dpi                            200                       200   \n",
       "typeface               bold_italic               bold_italic   \n",
       "\n",
       "         Cdts213_200_41_22_199.bmp Cdts212_200_41_18_199.bmp  \\\n",
       "label                          199                       199   \n",
       "dpi                            200                       200   \n",
       "typeface               bold_italic               bold_italic   \n",
       "\n",
       "         Cdtb213_200_40_20_199.bmp Ects211_200_41_08_199.bmp  \\\n",
       "label                          199                       199   \n",
       "dpi                            200                       200   \n",
       "typeface               bold_italic               bold_italic   \n",
       "\n",
       "         FSTB213_200_40_22_199.bmp KKTB212_200_40_22_199.bmp  \\\n",
       "label                          199                       199   \n",
       "dpi                            200                       200   \n",
       "typeface               bold_italic               bold_italic   \n",
       "\n",
       "         IRTB213_200_40_22_199.bmp PPTB212_200_40_16_199.bmp  ...  \\\n",
       "label                          199                       199  ...   \n",
       "dpi                            200                       200  ...   \n",
       "typeface               bold_italic               bold_italic  ...   \n",
       "\n",
       "         BWEB311_300_10_08_075.bmp DLES322_300_11_16_075.bmp  \\\n",
       "label                          075                       075   \n",
       "dpi                            300                       300   \n",
       "typeface                    normal                    normal   \n",
       "\n",
       "         JMEB311_300_10_08_075.bmp JMEB321_300_10_10_075.bmp  \\\n",
       "label                          075                       075   \n",
       "dpi                            300                       300   \n",
       "typeface                    normal                    normal   \n",
       "\n",
       "         KKES312_300_11_18_075.bmp CDES322_300_11_16_075.bmp  \\\n",
       "label                          075                       075   \n",
       "dpi                            300                       300   \n",
       "typeface                    normal                    normal   \n",
       "\n",
       "         ASEB321_300_10_10_075.bmp ASES323_300_11_22_075.bmp  \\\n",
       "label                          075                       075   \n",
       "dpi                            300                       300   \n",
       "typeface                    normal                    normal   \n",
       "\n",
       "         DLEB311_300_10_14_075.bmp BWEB321_300_10_10_075.bmp  \n",
       "label                          075                       075  \n",
       "dpi                            300                       300  \n",
       "typeface                    normal                    normal  \n",
       "\n",
       "[3 rows x 489157 columns]"
      ]
     },
     "execution_count": 56,
     "metadata": {},
     "output_type": "execute_result"
    }
   ],
   "source": [
    "df"
   ]
  },
  {
   "cell_type": "code",
   "execution_count": 57,
   "metadata": {},
   "outputs": [
    {
     "data": {
      "text/html": [
       "<div>\n",
       "<style scoped>\n",
       "    .dataframe tbody tr th:only-of-type {\n",
       "        vertical-align: middle;\n",
       "    }\n",
       "\n",
       "    .dataframe tbody tr th {\n",
       "        vertical-align: top;\n",
       "    }\n",
       "\n",
       "    .dataframe thead th {\n",
       "        text-align: right;\n",
       "    }\n",
       "</style>\n",
       "<table border=\"1\" class=\"dataframe\">\n",
       "  <thead>\n",
       "    <tr style=\"text-align: right;\">\n",
       "      <th></th>\n",
       "      <th>KKTS211_200_41_08_199.bmp</th>\n",
       "      <th>PPTS211_200_41_10_199.bmp</th>\n",
       "      <th>Cdts213_200_41_22_199.bmp</th>\n",
       "      <th>Cdts212_200_41_18_199.bmp</th>\n",
       "      <th>Cdtb213_200_40_20_199.bmp</th>\n",
       "      <th>Ects211_200_41_08_199.bmp</th>\n",
       "      <th>FSTB213_200_40_22_199.bmp</th>\n",
       "      <th>KKTB212_200_40_22_199.bmp</th>\n",
       "      <th>IRTB213_200_40_22_199.bmp</th>\n",
       "      <th>PPTB212_200_40_16_199.bmp</th>\n",
       "      <th>...</th>\n",
       "      <th>BWEB311_300_10_08_075.bmp</th>\n",
       "      <th>DLES322_300_11_16_075.bmp</th>\n",
       "      <th>JMEB311_300_10_08_075.bmp</th>\n",
       "      <th>JMEB321_300_10_10_075.bmp</th>\n",
       "      <th>KKES312_300_11_18_075.bmp</th>\n",
       "      <th>CDES322_300_11_16_075.bmp</th>\n",
       "      <th>ASEB321_300_10_10_075.bmp</th>\n",
       "      <th>ASES323_300_11_22_075.bmp</th>\n",
       "      <th>DLEB311_300_10_14_075.bmp</th>\n",
       "      <th>BWEB321_300_10_10_075.bmp</th>\n",
       "    </tr>\n",
       "  </thead>\n",
       "  <tbody>\n",
       "    <tr>\n",
       "      <th>typeface</th>\n",
       "      <td>bold_italic</td>\n",
       "      <td>bold_italic</td>\n",
       "      <td>bold_italic</td>\n",
       "      <td>bold_italic</td>\n",
       "      <td>bold_italic</td>\n",
       "      <td>bold_italic</td>\n",
       "      <td>bold_italic</td>\n",
       "      <td>bold_italic</td>\n",
       "      <td>bold_italic</td>\n",
       "      <td>bold_italic</td>\n",
       "      <td>...</td>\n",
       "      <td>normal</td>\n",
       "      <td>normal</td>\n",
       "      <td>normal</td>\n",
       "      <td>normal</td>\n",
       "      <td>normal</td>\n",
       "      <td>normal</td>\n",
       "      <td>normal</td>\n",
       "      <td>normal</td>\n",
       "      <td>normal</td>\n",
       "      <td>normal</td>\n",
       "    </tr>\n",
       "    <tr>\n",
       "      <th>dpi</th>\n",
       "      <td>200</td>\n",
       "      <td>200</td>\n",
       "      <td>200</td>\n",
       "      <td>200</td>\n",
       "      <td>200</td>\n",
       "      <td>200</td>\n",
       "      <td>200</td>\n",
       "      <td>200</td>\n",
       "      <td>200</td>\n",
       "      <td>200</td>\n",
       "      <td>...</td>\n",
       "      <td>300</td>\n",
       "      <td>300</td>\n",
       "      <td>300</td>\n",
       "      <td>300</td>\n",
       "      <td>300</td>\n",
       "      <td>300</td>\n",
       "      <td>300</td>\n",
       "      <td>300</td>\n",
       "      <td>300</td>\n",
       "      <td>300</td>\n",
       "    </tr>\n",
       "  </tbody>\n",
       "</table>\n",
       "<p>2 rows × 489157 columns</p>\n",
       "</div>"
      ],
      "text/plain": [
       "         KKTS211_200_41_08_199.bmp PPTS211_200_41_10_199.bmp  \\\n",
       "typeface               bold_italic               bold_italic   \n",
       "dpi                            200                       200   \n",
       "\n",
       "         Cdts213_200_41_22_199.bmp Cdts212_200_41_18_199.bmp  \\\n",
       "typeface               bold_italic               bold_italic   \n",
       "dpi                            200                       200   \n",
       "\n",
       "         Cdtb213_200_40_20_199.bmp Ects211_200_41_08_199.bmp  \\\n",
       "typeface               bold_italic               bold_italic   \n",
       "dpi                            200                       200   \n",
       "\n",
       "         FSTB213_200_40_22_199.bmp KKTB212_200_40_22_199.bmp  \\\n",
       "typeface               bold_italic               bold_italic   \n",
       "dpi                            200                       200   \n",
       "\n",
       "         IRTB213_200_40_22_199.bmp PPTB212_200_40_16_199.bmp  ...  \\\n",
       "typeface               bold_italic               bold_italic  ...   \n",
       "dpi                            200                       200  ...   \n",
       "\n",
       "         BWEB311_300_10_08_075.bmp DLES322_300_11_16_075.bmp  \\\n",
       "typeface                    normal                    normal   \n",
       "dpi                            300                       300   \n",
       "\n",
       "         JMEB311_300_10_08_075.bmp JMEB321_300_10_10_075.bmp  \\\n",
       "typeface                    normal                    normal   \n",
       "dpi                            300                       300   \n",
       "\n",
       "         KKES312_300_11_18_075.bmp CDES322_300_11_16_075.bmp  \\\n",
       "typeface                    normal                    normal   \n",
       "dpi                            300                       300   \n",
       "\n",
       "         ASEB321_300_10_10_075.bmp ASES323_300_11_22_075.bmp  \\\n",
       "typeface                    normal                    normal   \n",
       "dpi                            300                       300   \n",
       "\n",
       "         DLEB311_300_10_14_075.bmp BWEB321_300_10_10_075.bmp  \n",
       "typeface                    normal                    normal  \n",
       "dpi                            300                       300  \n",
       "\n",
       "[2 rows x 489157 columns]"
      ]
     },
     "execution_count": 57,
     "metadata": {},
     "output_type": "execute_result"
    }
   ],
   "source": [
    "train"
   ]
  },
  {
   "cell_type": "code",
   "execution_count": 58,
   "metadata": {},
   "outputs": [],
   "source": [
    "thai = ThaiOCRData('thai')"
   ]
  },
  {
   "cell_type": "code",
   "execution_count": 59,
   "metadata": {},
   "outputs": [
    {
     "ename": "AttributeError",
     "evalue": "'ThaiOCRData' object has no attribute 'data_dict'",
     "output_type": "error",
     "traceback": [
      "\u001b[0;31m---------------------------------------------------------------------------\u001b[0m",
      "\u001b[0;31mAttributeError\u001b[0m                            Traceback (most recent call last)",
      "Cell \u001b[0;32mIn[59], line 1\u001b[0m\n\u001b[0;32m----> 1\u001b[0m \u001b[38;5;28;43mlen\u001b[39;49m\u001b[43m(\u001b[49m\u001b[43mthai\u001b[49m\u001b[43m)\u001b[49m\n",
      "File \u001b[0;32m/srv/data/gusvjotvan/ML2/ML2.py:144\u001b[0m, in \u001b[0;36m__len__\u001b[0;34m(self)\u001b[0m\n\u001b[1;32m      0\u001b[0m <Error retrieving source code with stack_data see ipython/ipython#13598>\n",
      "\u001b[0;31mAttributeError\u001b[0m: 'ThaiOCRData' object has no attribute 'data_dict'"
     ]
    }
   ],
   "source": [
    "len(thai)"
   ]
  },
  {
   "cell_type": "code",
   "execution_count": 16,
   "metadata": {},
   "outputs": [
    {
     "data": {
      "text/plain": [
       "['__add__',\n",
       " '__annotations__',\n",
       " '__class__',\n",
       " '__class_getitem__',\n",
       " '__delattr__',\n",
       " '__dict__',\n",
       " '__dir__',\n",
       " '__doc__',\n",
       " '__eq__',\n",
       " '__format__',\n",
       " '__ge__',\n",
       " '__getattribute__',\n",
       " '__getitem__',\n",
       " '__getstate__',\n",
       " '__gt__',\n",
       " '__hash__',\n",
       " '__init__',\n",
       " '__init_subclass__',\n",
       " '__le__',\n",
       " '__len__',\n",
       " '__lt__',\n",
       " '__module__',\n",
       " '__ne__',\n",
       " '__new__',\n",
       " '__orig_bases__',\n",
       " '__parameters__',\n",
       " '__reduce__',\n",
       " '__reduce_ex__',\n",
       " '__repr__',\n",
       " '__setattr__',\n",
       " '__sizeof__',\n",
       " '__str__',\n",
       " '__subclasshook__',\n",
       " '__weakref__']"
      ]
     },
     "execution_count": 16,
     "metadata": {},
     "output_type": "execute_result"
    }
   ],
   "source": [
    "dir(thai)"
   ]
  },
  {
   "cell_type": "code",
   "execution_count": null,
   "metadata": {},
   "outputs": [],
   "source": []
  }
 ],
 "metadata": {
  "kernelspec": {
   "display_name": "Python 3 (ipykernel)",
   "language": "python",
   "name": "python3"
  },
  "language_info": {
   "codemirror_mode": {
    "name": "ipython",
    "version": 3
   },
   "file_extension": ".py",
   "mimetype": "text/x-python",
   "name": "python",
   "nbconvert_exporter": "python",
   "pygments_lexer": "ipython3",
   "version": "3.12.3"
  }
 },
 "nbformat": 4,
 "nbformat_minor": 2
}
