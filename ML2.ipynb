{
 "cells": [
  {
   "cell_type": "code",
   "execution_count": 45,
   "metadata": {},
   "outputs": [],
   "source": [
    "import os\n",
    "import sys\n",
    "import torch\n",
    "import torch.nn as nn\n",
    "from torch.utils.data import Dataset, random_split\n",
    "import PIL\n",
    "import pandas as pd\n",
    "from sklearn.model_selection import train_test_split\n",
    "from torchvision.io import read_image\n",
    "from itertools import chain\n",
    "import pickle\n",
    "from preprocess import ThaiOCRData\n",
    "from test import print_metrics\n",
    "import json\n",
    "\n",
    "\n",
    "if torch.cuda.is_available():\n",
    "    device = torch.device('cuda:3')\n",
    "else:\n",
    "    device = torch.device('cpu')"
   ]
  },
  {
   "cell_type": "markdown",
   "metadata": {},
   "source": [
    "with open('y.pkl', 'rb') as f:\n",
    "    loaded_y = pickle.load(f)"
   ]
  },
  {
   "cell_type": "markdown",
   "metadata": {},
   "source": [
    "count = 0\n",
    "count_dict = {}\n",
    "for pred in loaded_y[1]:\n",
    "    #if not pred.argmax() == loaded_y[1][8].argmax():\n",
    "    if pred.argmax() not in count_dict:\n",
    "        count_dict[pred.argmax()] = 0\n",
    "    count_dict[pred.argmax()] += 1"
   ]
  },
  {
   "cell_type": "code",
   "execution_count": 46,
   "metadata": {},
   "outputs": [],
   "source": [
    "with open(\"config.json\", \"r\") as f:\n",
    "    config = json.load(f)"
   ]
  },
  {
   "cell_type": "code",
   "execution_count": 51,
   "metadata": {},
   "outputs": [],
   "source": [
    "config_dict= {\"train\": {\n",
    "    \"lang\": \"Thai\",\n",
    "    \"dpi\": \"200\",\n",
    "    \"typeface\": \"normal\"\n",
    "},\n",
    "\"eval\": {\n",
    "    \"lang\": \"Thai\",\n",
    "    \"dpi\": \"200\",\n",
    "    \"typeface\": \"normal\"\n",
    "    }}"
   ]
  },
  {
   "cell_type": "code",
   "execution_count": 55,
   "metadata": {},
   "outputs": [
    {
     "data": {
      "text/plain": [
       "True"
      ]
     },
     "execution_count": 55,
     "metadata": {},
     "output_type": "execute_result"
    }
   ],
   "source": [
    "config_dict['train'] == config_dict['eval']"
   ]
  },
  {
   "cell_type": "code",
   "execution_count": 57,
   "metadata": {},
   "outputs": [],
   "source": [
    "training_dir = os.path.abspath(\"/scratch/lt2326-2926-h24/ThaiOCR/ThaiOCR-TrainigSet\")"
   ]
  },
  {
   "cell_type": "code",
   "execution_count": 56,
   "metadata": {},
   "outputs": [
    {
     "data": {
      "text/plain": [
       "True"
      ]
     },
     "execution_count": 56,
     "metadata": {},
     "output_type": "execute_result"
    }
   ],
   "source": [
    "config['train'] == config['eval']"
   ]
  },
  {
   "cell_type": "code",
   "execution_count": null,
   "metadata": {},
   "outputs": [],
   "source": [
    "if co"
   ]
  },
  {
   "cell_type": "code",
   "execution_count": 48,
   "metadata": {},
   "outputs": [
    {
     "data": {
      "text/plain": [
       "dict_values(['Thai', '200', 'normal'])"
      ]
     },
     "execution_count": 48,
     "metadata": {},
     "output_type": "execute_result"
    }
   ],
   "source": [
    "config['train'].values()"
   ]
  },
  {
   "cell_type": "code",
   "execution_count": 49,
   "metadata": {},
   "outputs": [
    {
     "data": {
      "text/plain": [
       "dict_values(['Thai', '200', 'normal'])"
      ]
     },
     "execution_count": 49,
     "metadata": {},
     "output_type": "execute_result"
    }
   ],
   "source": [
    "config['eval'].values()"
   ]
  },
  {
   "cell_type": "code",
   "execution_count": 50,
   "metadata": {},
   "outputs": [
    {
     "ename": "TypeError",
     "evalue": "can't convert cuda:3 device type tensor to numpy. Use Tensor.cpu() to copy the tensor to host memory first.",
     "output_type": "error",
     "traceback": [
      "\u001b[0;31m---------------------------------------------------------------------------\u001b[0m",
      "\u001b[0;31mTypeError\u001b[0m                                 Traceback (most recent call last)",
      "Cell \u001b[0;32mIn[50], line 1\u001b[0m\n\u001b[0;32m----> 1\u001b[0m \u001b[43mprint_metrics\u001b[49m\u001b[43m(\u001b[49m\u001b[43mloaded_y\u001b[49m\u001b[43m[\u001b[49m\u001b[38;5;241;43m0\u001b[39;49m\u001b[43m]\u001b[49m\u001b[43m,\u001b[49m\u001b[43m \u001b[49m\u001b[43mloaded_y\u001b[49m\u001b[43m[\u001b[49m\u001b[38;5;241;43m1\u001b[39;49m\u001b[43m]\u001b[49m\u001b[43m,\u001b[49m\u001b[43m \u001b[49m\u001b[43mloaded_y\u001b[49m\u001b[43m[\u001b[49m\u001b[38;5;241;43m2\u001b[39;49m\u001b[43m]\u001b[49m\u001b[43m)\u001b[49m\n",
      "File \u001b[0;32m/srv/data/gusvjotvan/ML2/test.py:33\u001b[0m, in \u001b[0;36mprint_metrics\u001b[0;34m(y_pred, y_test, classes)\u001b[0m\n\u001b[1;32m     24\u001b[0m \u001b[38;5;28;01mdef\u001b[39;00m \u001b[38;5;21mprint_metrics\u001b[39m(y_pred, y_test, classes):\n\u001b[1;32m     25\u001b[0m     \u001b[38;5;66;03m# Note: This function has more or less the same structure as one I have used in a previous assignment.\u001b[39;00m\n\u001b[1;32m     27\u001b[0m \u001b[38;5;250m    \u001b[39m\u001b[38;5;124;03m\"\"\"\u001b[39;00m\n\u001b[1;32m     28\u001b[0m \u001b[38;5;124;03m    Prints accuracy; precision, recall, f-score per class; and macro precision, recall, f-score based on inputs.\u001b[39;00m\n\u001b[1;32m     29\u001b[0m \u001b[38;5;124;03m    Args:\u001b[39;00m\n\u001b[1;32m     30\u001b[0m \u001b[38;5;124;03m        y_pred: set of class predictions made by model\u001b[39;00m\n\u001b[1;32m     31\u001b[0m \u001b[38;5;124;03m        y_test: set of gold labels of evaluation set where y_test[i] corresponds to y_pred[i]\u001b[39;00m\n\u001b[1;32m     32\u001b[0m \u001b[38;5;124;03m    \"\"\"\u001b[39;00m\n\u001b[0;32m---> 33\u001b[0m     accuracy \u001b[38;5;241m=\u001b[39m \u001b[43maccuracy_score\u001b[49m\u001b[43m(\u001b[49m\u001b[43my_test\u001b[49m\u001b[43m,\u001b[49m\u001b[43m \u001b[49m\u001b[43my_pred\u001b[49m\u001b[43m)\u001b[49m\n\u001b[1;32m     34\u001b[0m     p_scores \u001b[38;5;241m=\u001b[39m precision_score(y_test, y_pred, labels \u001b[38;5;241m=\u001b[39m classes, average \u001b[38;5;241m=\u001b[39m \u001b[38;5;28;01mNone\u001b[39;00m, zero_division\u001b[38;5;241m=\u001b[39m\u001b[38;5;241m0.0\u001b[39m)\n\u001b[1;32m     35\u001b[0m     r_scores \u001b[38;5;241m=\u001b[39m recall_score(y_test, y_pred, labels \u001b[38;5;241m=\u001b[39m classes, average \u001b[38;5;241m=\u001b[39m \u001b[38;5;28;01mNone\u001b[39;00m, zero_division\u001b[38;5;241m=\u001b[39m\u001b[38;5;241m0.0\u001b[39m)\n",
      "File \u001b[0;32m/usr/local/lib64/python3.12/site-packages/sklearn/utils/_param_validation.py:213\u001b[0m, in \u001b[0;36mvalidate_params.<locals>.decorator.<locals>.wrapper\u001b[0;34m(*args, **kwargs)\u001b[0m\n\u001b[1;32m    207\u001b[0m \u001b[38;5;28;01mtry\u001b[39;00m:\n\u001b[1;32m    208\u001b[0m     \u001b[38;5;28;01mwith\u001b[39;00m config_context(\n\u001b[1;32m    209\u001b[0m         skip_parameter_validation\u001b[38;5;241m=\u001b[39m(\n\u001b[1;32m    210\u001b[0m             prefer_skip_nested_validation \u001b[38;5;129;01mor\u001b[39;00m global_skip_validation\n\u001b[1;32m    211\u001b[0m         )\n\u001b[1;32m    212\u001b[0m     ):\n\u001b[0;32m--> 213\u001b[0m         \u001b[38;5;28;01mreturn\u001b[39;00m \u001b[43mfunc\u001b[49m\u001b[43m(\u001b[49m\u001b[38;5;241;43m*\u001b[39;49m\u001b[43margs\u001b[49m\u001b[43m,\u001b[49m\u001b[43m \u001b[49m\u001b[38;5;241;43m*\u001b[39;49m\u001b[38;5;241;43m*\u001b[39;49m\u001b[43mkwargs\u001b[49m\u001b[43m)\u001b[49m\n\u001b[1;32m    214\u001b[0m \u001b[38;5;28;01mexcept\u001b[39;00m InvalidParameterError \u001b[38;5;28;01mas\u001b[39;00m e:\n\u001b[1;32m    215\u001b[0m     \u001b[38;5;66;03m# When the function is just a wrapper around an estimator, we allow\u001b[39;00m\n\u001b[1;32m    216\u001b[0m     \u001b[38;5;66;03m# the function to delegate validation to the estimator, but we replace\u001b[39;00m\n\u001b[1;32m    217\u001b[0m     \u001b[38;5;66;03m# the name of the estimator by the name of the function in the error\u001b[39;00m\n\u001b[1;32m    218\u001b[0m     \u001b[38;5;66;03m# message to avoid confusion.\u001b[39;00m\n\u001b[1;32m    219\u001b[0m     msg \u001b[38;5;241m=\u001b[39m re\u001b[38;5;241m.\u001b[39msub(\n\u001b[1;32m    220\u001b[0m         \u001b[38;5;124mr\u001b[39m\u001b[38;5;124m\"\u001b[39m\u001b[38;5;124mparameter of \u001b[39m\u001b[38;5;124m\\\u001b[39m\u001b[38;5;124mw+ must be\u001b[39m\u001b[38;5;124m\"\u001b[39m,\n\u001b[1;32m    221\u001b[0m         \u001b[38;5;124mf\u001b[39m\u001b[38;5;124m\"\u001b[39m\u001b[38;5;124mparameter of \u001b[39m\u001b[38;5;132;01m{\u001b[39;00mfunc\u001b[38;5;241m.\u001b[39m\u001b[38;5;18m__qualname__\u001b[39m\u001b[38;5;132;01m}\u001b[39;00m\u001b[38;5;124m must be\u001b[39m\u001b[38;5;124m\"\u001b[39m,\n\u001b[1;32m    222\u001b[0m         \u001b[38;5;28mstr\u001b[39m(e),\n\u001b[1;32m    223\u001b[0m     )\n",
      "File \u001b[0;32m/usr/local/lib64/python3.12/site-packages/sklearn/metrics/_classification.py:231\u001b[0m, in \u001b[0;36maccuracy_score\u001b[0;34m(y_true, y_pred, normalize, sample_weight)\u001b[0m\n\u001b[1;32m    229\u001b[0m xp, _, device \u001b[38;5;241m=\u001b[39m get_namespace_and_device(y_true, y_pred, sample_weight)\n\u001b[1;32m    230\u001b[0m \u001b[38;5;66;03m# Compute accuracy for each possible representation\u001b[39;00m\n\u001b[0;32m--> 231\u001b[0m y_type, y_true, y_pred \u001b[38;5;241m=\u001b[39m \u001b[43m_check_targets\u001b[49m\u001b[43m(\u001b[49m\u001b[43my_true\u001b[49m\u001b[43m,\u001b[49m\u001b[43m \u001b[49m\u001b[43my_pred\u001b[49m\u001b[43m)\u001b[49m\n\u001b[1;32m    232\u001b[0m check_consistent_length(y_true, y_pred, sample_weight)\n\u001b[1;32m    233\u001b[0m \u001b[38;5;28;01mif\u001b[39;00m y_type\u001b[38;5;241m.\u001b[39mstartswith(\u001b[38;5;124m\"\u001b[39m\u001b[38;5;124mmultilabel\u001b[39m\u001b[38;5;124m\"\u001b[39m):\n",
      "File \u001b[0;32m/usr/local/lib64/python3.12/site-packages/sklearn/metrics/_classification.py:104\u001b[0m, in \u001b[0;36m_check_targets\u001b[0;34m(y_true, y_pred)\u001b[0m\n\u001b[1;32m    102\u001b[0m xp, _ \u001b[38;5;241m=\u001b[39m get_namespace(y_true, y_pred)\n\u001b[1;32m    103\u001b[0m check_consistent_length(y_true, y_pred)\n\u001b[0;32m--> 104\u001b[0m type_true \u001b[38;5;241m=\u001b[39m \u001b[43mtype_of_target\u001b[49m\u001b[43m(\u001b[49m\u001b[43my_true\u001b[49m\u001b[43m,\u001b[49m\u001b[43m \u001b[49m\u001b[43minput_name\u001b[49m\u001b[38;5;241;43m=\u001b[39;49m\u001b[38;5;124;43m\"\u001b[39;49m\u001b[38;5;124;43my_true\u001b[39;49m\u001b[38;5;124;43m\"\u001b[39;49m\u001b[43m)\u001b[49m\n\u001b[1;32m    105\u001b[0m type_pred \u001b[38;5;241m=\u001b[39m type_of_target(y_pred, input_name\u001b[38;5;241m=\u001b[39m\u001b[38;5;124m\"\u001b[39m\u001b[38;5;124my_pred\u001b[39m\u001b[38;5;124m\"\u001b[39m)\n\u001b[1;32m    107\u001b[0m y_type \u001b[38;5;241m=\u001b[39m {type_true, type_pred}\n",
      "File \u001b[0;32m/usr/local/lib64/python3.12/site-packages/sklearn/utils/multiclass.py:314\u001b[0m, in \u001b[0;36mtype_of_target\u001b[0;34m(y, input_name)\u001b[0m\n\u001b[1;32m    311\u001b[0m \u001b[38;5;28;01mif\u001b[39;00m sparse_pandas:\n\u001b[1;32m    312\u001b[0m     \u001b[38;5;28;01mraise\u001b[39;00m \u001b[38;5;167;01mValueError\u001b[39;00m(\u001b[38;5;124m\"\u001b[39m\u001b[38;5;124my cannot be class \u001b[39m\u001b[38;5;124m'\u001b[39m\u001b[38;5;124mSparseSeries\u001b[39m\u001b[38;5;124m'\u001b[39m\u001b[38;5;124m or \u001b[39m\u001b[38;5;124m'\u001b[39m\u001b[38;5;124mSparseArray\u001b[39m\u001b[38;5;124m'\u001b[39m\u001b[38;5;124m\"\u001b[39m)\n\u001b[0;32m--> 314\u001b[0m \u001b[38;5;28;01mif\u001b[39;00m \u001b[43mis_multilabel\u001b[49m\u001b[43m(\u001b[49m\u001b[43my\u001b[49m\u001b[43m)\u001b[49m:\n\u001b[1;32m    315\u001b[0m     \u001b[38;5;28;01mreturn\u001b[39;00m \u001b[38;5;124m\"\u001b[39m\u001b[38;5;124mmultilabel-indicator\u001b[39m\u001b[38;5;124m\"\u001b[39m\n\u001b[1;32m    317\u001b[0m \u001b[38;5;66;03m# DeprecationWarning will be replaced by ValueError, see NEP 34\u001b[39;00m\n\u001b[1;32m    318\u001b[0m \u001b[38;5;66;03m# https://numpy.org/neps/nep-0034-infer-dtype-is-object.html\u001b[39;00m\n\u001b[1;32m    319\u001b[0m \u001b[38;5;66;03m# We therefore catch both deprecation (NumPy < 1.24) warning and\u001b[39;00m\n\u001b[1;32m    320\u001b[0m \u001b[38;5;66;03m# value error (NumPy >= 1.24).\u001b[39;00m\n",
      "File \u001b[0;32m/usr/local/lib64/python3.12/site-packages/sklearn/utils/multiclass.py:169\u001b[0m, in \u001b[0;36mis_multilabel\u001b[0;34m(y)\u001b[0m\n\u001b[1;32m    167\u001b[0m warnings\u001b[38;5;241m.\u001b[39msimplefilter(\u001b[38;5;124m\"\u001b[39m\u001b[38;5;124merror\u001b[39m\u001b[38;5;124m\"\u001b[39m, VisibleDeprecationWarning)\n\u001b[1;32m    168\u001b[0m \u001b[38;5;28;01mtry\u001b[39;00m:\n\u001b[0;32m--> 169\u001b[0m     y \u001b[38;5;241m=\u001b[39m \u001b[43mcheck_array\u001b[49m\u001b[43m(\u001b[49m\u001b[43my\u001b[49m\u001b[43m,\u001b[49m\u001b[43m \u001b[49m\u001b[43mdtype\u001b[49m\u001b[38;5;241;43m=\u001b[39;49m\u001b[38;5;28;43;01mNone\u001b[39;49;00m\u001b[43m,\u001b[49m\u001b[43m \u001b[49m\u001b[38;5;241;43m*\u001b[39;49m\u001b[38;5;241;43m*\u001b[39;49m\u001b[43mcheck_y_kwargs\u001b[49m\u001b[43m)\u001b[49m\n\u001b[1;32m    170\u001b[0m \u001b[38;5;28;01mexcept\u001b[39;00m (VisibleDeprecationWarning, \u001b[38;5;167;01mValueError\u001b[39;00m) \u001b[38;5;28;01mas\u001b[39;00m e:\n\u001b[1;32m    171\u001b[0m     \u001b[38;5;28;01mif\u001b[39;00m \u001b[38;5;28mstr\u001b[39m(e)\u001b[38;5;241m.\u001b[39mstartswith(\u001b[38;5;124m\"\u001b[39m\u001b[38;5;124mComplex data not supported\u001b[39m\u001b[38;5;124m\"\u001b[39m):\n",
      "File \u001b[0;32m/usr/local/lib64/python3.12/site-packages/sklearn/utils/validation.py:1012\u001b[0m, in \u001b[0;36mcheck_array\u001b[0;34m(array, accept_sparse, accept_large_sparse, dtype, order, copy, force_writeable, force_all_finite, ensure_2d, allow_nd, ensure_min_samples, ensure_min_features, estimator, input_name)\u001b[0m\n\u001b[1;32m   1010\u001b[0m         array \u001b[38;5;241m=\u001b[39m xp\u001b[38;5;241m.\u001b[39mastype(array, dtype, copy\u001b[38;5;241m=\u001b[39m\u001b[38;5;28;01mFalse\u001b[39;00m)\n\u001b[1;32m   1011\u001b[0m     \u001b[38;5;28;01melse\u001b[39;00m:\n\u001b[0;32m-> 1012\u001b[0m         array \u001b[38;5;241m=\u001b[39m \u001b[43m_asarray_with_order\u001b[49m\u001b[43m(\u001b[49m\u001b[43marray\u001b[49m\u001b[43m,\u001b[49m\u001b[43m \u001b[49m\u001b[43morder\u001b[49m\u001b[38;5;241;43m=\u001b[39;49m\u001b[43morder\u001b[49m\u001b[43m,\u001b[49m\u001b[43m \u001b[49m\u001b[43mdtype\u001b[49m\u001b[38;5;241;43m=\u001b[39;49m\u001b[43mdtype\u001b[49m\u001b[43m,\u001b[49m\u001b[43m \u001b[49m\u001b[43mxp\u001b[49m\u001b[38;5;241;43m=\u001b[39;49m\u001b[43mxp\u001b[49m\u001b[43m)\u001b[49m\n\u001b[1;32m   1013\u001b[0m \u001b[38;5;28;01mexcept\u001b[39;00m ComplexWarning \u001b[38;5;28;01mas\u001b[39;00m complex_warning:\n\u001b[1;32m   1014\u001b[0m     \u001b[38;5;28;01mraise\u001b[39;00m \u001b[38;5;167;01mValueError\u001b[39;00m(\n\u001b[1;32m   1015\u001b[0m         \u001b[38;5;124m\"\u001b[39m\u001b[38;5;124mComplex data not supported\u001b[39m\u001b[38;5;130;01m\\n\u001b[39;00m\u001b[38;5;132;01m{}\u001b[39;00m\u001b[38;5;130;01m\\n\u001b[39;00m\u001b[38;5;124m\"\u001b[39m\u001b[38;5;241m.\u001b[39mformat(array)\n\u001b[1;32m   1016\u001b[0m     ) \u001b[38;5;28;01mfrom\u001b[39;00m \u001b[38;5;21;01mcomplex_warning\u001b[39;00m\n",
      "File \u001b[0;32m/usr/local/lib64/python3.12/site-packages/sklearn/utils/_array_api.py:745\u001b[0m, in \u001b[0;36m_asarray_with_order\u001b[0;34m(array, dtype, order, copy, xp, device)\u001b[0m\n\u001b[1;32m    743\u001b[0m     array \u001b[38;5;241m=\u001b[39m numpy\u001b[38;5;241m.\u001b[39marray(array, order\u001b[38;5;241m=\u001b[39morder, dtype\u001b[38;5;241m=\u001b[39mdtype)\n\u001b[1;32m    744\u001b[0m \u001b[38;5;28;01melse\u001b[39;00m:\n\u001b[0;32m--> 745\u001b[0m     array \u001b[38;5;241m=\u001b[39m \u001b[43mnumpy\u001b[49m\u001b[38;5;241;43m.\u001b[39;49m\u001b[43masarray\u001b[49m\u001b[43m(\u001b[49m\u001b[43marray\u001b[49m\u001b[43m,\u001b[49m\u001b[43m \u001b[49m\u001b[43morder\u001b[49m\u001b[38;5;241;43m=\u001b[39;49m\u001b[43morder\u001b[49m\u001b[43m,\u001b[49m\u001b[43m \u001b[49m\u001b[43mdtype\u001b[49m\u001b[38;5;241;43m=\u001b[39;49m\u001b[43mdtype\u001b[49m\u001b[43m)\u001b[49m\n\u001b[1;32m    747\u001b[0m \u001b[38;5;66;03m# At this point array is a NumPy ndarray. We convert it to an array\u001b[39;00m\n\u001b[1;32m    748\u001b[0m \u001b[38;5;66;03m# container that is consistent with the input's namespace.\u001b[39;00m\n\u001b[1;32m    749\u001b[0m \u001b[38;5;28;01mreturn\u001b[39;00m xp\u001b[38;5;241m.\u001b[39masarray(array)\n",
      "File \u001b[0;32m~/.local/lib/python3.12/site-packages/torch/_tensor.py:1083\u001b[0m, in \u001b[0;36mTensor.__array__\u001b[0;34m(self, dtype)\u001b[0m\n\u001b[1;32m   1081\u001b[0m     \u001b[38;5;28;01mreturn\u001b[39;00m handle_torch_function(Tensor\u001b[38;5;241m.\u001b[39m__array__, (\u001b[38;5;28mself\u001b[39m,), \u001b[38;5;28mself\u001b[39m, dtype\u001b[38;5;241m=\u001b[39mdtype)\n\u001b[1;32m   1082\u001b[0m \u001b[38;5;28;01mif\u001b[39;00m dtype \u001b[38;5;129;01mis\u001b[39;00m \u001b[38;5;28;01mNone\u001b[39;00m:\n\u001b[0;32m-> 1083\u001b[0m     \u001b[38;5;28;01mreturn\u001b[39;00m \u001b[38;5;28;43mself\u001b[39;49m\u001b[38;5;241;43m.\u001b[39;49m\u001b[43mnumpy\u001b[49m\u001b[43m(\u001b[49m\u001b[43m)\u001b[49m\n\u001b[1;32m   1084\u001b[0m \u001b[38;5;28;01melse\u001b[39;00m:\n\u001b[1;32m   1085\u001b[0m     \u001b[38;5;28;01mreturn\u001b[39;00m \u001b[38;5;28mself\u001b[39m\u001b[38;5;241m.\u001b[39mnumpy()\u001b[38;5;241m.\u001b[39mastype(dtype, copy\u001b[38;5;241m=\u001b[39m\u001b[38;5;28;01mFalse\u001b[39;00m)\n",
      "\u001b[0;31mTypeError\u001b[0m: can't convert cuda:3 device type tensor to numpy. Use Tensor.cpu() to copy the tensor to host memory first."
     ]
    }
   ],
   "source": [
    "print_metrics(loaded_y[0], loaded_y[1], loaded_y[2])"
   ]
  },
  {
   "cell_type": "code",
   "execution_count": 2,
   "metadata": {},
   "outputs": [],
   "source": [
    "from preprocess import ThaiOCRData\n",
    "from train import train"
   ]
  },
  {
   "cell_type": "code",
   "execution_count": null,
   "metadata": {},
   "outputs": [],
   "source": []
  },
  {
   "cell_type": "code",
   "execution_count": 3,
   "metadata": {},
   "outputs": [],
   "source": [
    "with open('train_dataset.pkl', 'rb') as f:\n",
    "    loaded_train = pickle.load(f)"
   ]
  },
  {
   "cell_type": "code",
   "execution_count": 4,
   "metadata": {},
   "outputs": [],
   "source": [
    "label_ = loaded_train[0][1]\n",
    "label_str = loaded_train[0][0]"
   ]
  },
  {
   "cell_type": "code",
   "execution_count": 5,
   "metadata": {},
   "outputs": [
    {
     "data": {
      "text/plain": [
       "(tensor([[[1., 1., 1.,  ..., 1., 1., 1.],\n",
       "          [1., 1., 1.,  ..., 1., 1., 1.],\n",
       "          [1., 1., 1.,  ..., 1., 1., 1.],\n",
       "          ...,\n",
       "          [1., 1., 1.,  ..., 0., 0., 0.],\n",
       "          [1., 1., 1.,  ..., 0., 0., 0.],\n",
       "          [1., 1., 1.,  ..., 0., 0., 0.]]], device='cuda:3'),\n",
       " tensor(22))"
      ]
     },
     "execution_count": 5,
     "metadata": {},
     "output_type": "execute_result"
    }
   ],
   "source": [
    "loaded_train[0]"
   ]
  },
  {
   "cell_type": "code",
   "execution_count": 6,
   "metadata": {},
   "outputs": [
    {
     "data": {
      "text/plain": [
       "{'256': 0,\n",
       " '197': 1,\n",
       " '206': 2,\n",
       " '259': 3,\n",
       " '175': 4,\n",
       " '210': 5,\n",
       " '266': 6,\n",
       " '263': 7,\n",
       " '262': 8,\n",
       " '212': 9,\n",
       " '185': 10,\n",
       " '170': 11,\n",
       " '177': 12,\n",
       " '258': 13,\n",
       " '260': 14,\n",
       " '232': 15,\n",
       " '216': 16,\n",
       " '191': 17,\n",
       " '275': 18,\n",
       " '194': 19,\n",
       " '271': 20,\n",
       " '282': 21,\n",
       " '183': 22,\n",
       " '192': 23,\n",
       " '231': 24,\n",
       " '272': 25,\n",
       " '199': 26,\n",
       " '230': 27,\n",
       " '193': 28,\n",
       " '164': 29,\n",
       " '209': 30,\n",
       " '168': 31,\n",
       " '227': 32,\n",
       " '203': 33,\n",
       " '196': 34,\n",
       " '166': 35,\n",
       " '264': 36,\n",
       " '198': 37,\n",
       " '261': 38,\n",
       " '178': 39,\n",
       " '235': 40,\n",
       " '188': 41,\n",
       " '190': 42,\n",
       " '205': 43,\n",
       " '179': 44,\n",
       " '169': 45,\n",
       " '162': 46,\n",
       " '274': 47,\n",
       " '265': 48,\n",
       " '270': 49,\n",
       " '223': 50,\n",
       " '186': 51,\n",
       " '284': 52,\n",
       " '278': 53,\n",
       " '184': 54,\n",
       " '174': 55,\n",
       " '215': 56,\n",
       " '163': 57,\n",
       " '181': 58,\n",
       " '226': 59,\n",
       " '161': 60,\n",
       " '234': 61,\n",
       " '229': 62,\n",
       " '283': 63,\n",
       " '187': 64,\n",
       " '273': 65,\n",
       " '189': 66,\n",
       " '224': 67,\n",
       " '277': 68,\n",
       " '204': 69,\n",
       " '176': 70,\n",
       " '173': 71,\n",
       " '200': 72,\n",
       " '180': 73,\n",
       " '167': 74,\n",
       " '228': 75,\n",
       " '268': 76,\n",
       " '207': 77,\n",
       " '201': 78,\n",
       " '285': 79,\n",
       " '276': 80,\n",
       " '182': 81,\n",
       " '202': 82,\n",
       " '279': 83,\n",
       " '217': 84,\n",
       " '280': 85,\n",
       " '165': 86,\n",
       " '195': 87,\n",
       " '171': 88,\n",
       " '236': 89,\n",
       " '269': 90,\n",
       " '257': 91,\n",
       " '237': 92,\n",
       " '233': 93,\n",
       " '267': 94,\n",
       " '214': 95,\n",
       " '281': 96,\n",
       " '213': 97,\n",
       " '172': 98}"
      ]
     },
     "execution_count": 6,
     "metadata": {},
     "output_type": "execute_result"
    }
   ],
   "source": [
    "loaded_train.class_to_idx"
   ]
  },
  {
   "cell_type": "code",
   "execution_count": 7,
   "metadata": {},
   "outputs": [
    {
     "data": {
      "text/plain": [
       "tensor(22)"
      ]
     },
     "execution_count": 7,
     "metadata": {},
     "output_type": "execute_result"
    }
   ],
   "source": [
    "label_"
   ]
  },
  {
   "cell_type": "code",
   "execution_count": 8,
   "metadata": {},
   "outputs": [
    {
     "ename": "NameError",
     "evalue": "name 'tensor_' is not defined",
     "output_type": "error",
     "traceback": [
      "\u001b[0;31m---------------------------------------------------------------------------\u001b[0m",
      "\u001b[0;31mNameError\u001b[0m                                 Traceback (most recent call last)",
      "Cell \u001b[0;32mIn[8], line 1\u001b[0m\n\u001b[0;32m----> 1\u001b[0m \u001b[43mtensor_\u001b[49m\n",
      "\u001b[0;31mNameError\u001b[0m: name 'tensor_' is not defined"
     ]
    }
   ],
   "source": [
    "tensor_"
   ]
  },
  {
   "cell_type": "code",
   "execution_count": 75,
   "metadata": {},
   "outputs": [
    {
     "name": "stdout",
     "output_type": "stream",
     "text": [
      "torch.Size([72, 48])\n"
     ]
    }
   ],
   "source": [
    "for i in tensor_:\n",
    "    print(i.size())"
   ]
  },
  {
   "cell_type": "code",
   "execution_count": 76,
   "metadata": {},
   "outputs": [
    {
     "data": {
      "text/plain": [
       "tensor([[[1., 1., 1.,  ..., 1., 1., 1.],\n",
       "         [1., 1., 1.,  ..., 1., 1., 1.],\n",
       "         [1., 1., 1.,  ..., 1., 1., 1.],\n",
       "         ...,\n",
       "         [1., 1., 1.,  ..., 0., 0., 0.],\n",
       "         [1., 1., 1.,  ..., 0., 0., 0.],\n",
       "         [1., 1., 1.,  ..., 0., 0., 0.]]], device='cuda:3')"
      ]
     },
     "execution_count": 76,
     "metadata": {},
     "output_type": "execute_result"
    }
   ],
   "source": [
    "tensor_"
   ]
  },
  {
   "cell_type": "code",
   "execution_count": 77,
   "metadata": {},
   "outputs": [
    {
     "data": {
      "text/plain": [
       "250551"
      ]
     },
     "execution_count": 77,
     "metadata": {},
     "output_type": "execute_result"
    }
   ],
   "source": [
    "len(loaded_train.indices)"
   ]
  },
  {
   "cell_type": "code",
   "execution_count": 78,
   "metadata": {},
   "outputs": [
    {
     "data": {
      "text/plain": [
       "250551"
      ]
     },
     "execution_count": 78,
     "metadata": {},
     "output_type": "execute_result"
    }
   ],
   "source": [
    "len(loaded_train)"
   ]
  },
  {
   "cell_type": "markdown",
   "metadata": {},
   "source": [
    "for item in loaded_train:\n",
    "    print(item)"
   ]
  },
  {
   "cell_type": "markdown",
   "metadata": {},
   "source": [
    "print(\"### labels.long().min()\", labels.long().min())\n",
    "print(\"### labels.min()\", labels.min())\n",
    "\n",
    "print(\"### labels1.long().min()\", labels1.long().min())\n",
    "print(\"### labels1.min()\", labels1.min())"
   ]
  },
  {
   "cell_type": "markdown",
   "metadata": {},
   "source": [
    "for i in range(len(loaded_train)):\n",
    "    #print(loaded_train[i][4])\n",
    "    print(loaded_train[i][4].size())\n",
    "    print(loaded_train[i][2])\n",
    "    print()"
   ]
  },
  {
   "cell_type": "code",
   "execution_count": 79,
   "metadata": {},
   "outputs": [
    {
     "name": "stdout",
     "output_type": "stream",
     "text": [
      "cuda:3\n"
     ]
    }
   ],
   "source": [
    "print(device)"
   ]
  },
  {
   "cell_type": "code",
   "execution_count": 80,
   "metadata": {},
   "outputs": [],
   "source": [
    "from ML2 import generate_split, ThaiOCRData"
   ]
  },
  {
   "cell_type": "code",
   "execution_count": 81,
   "metadata": {},
   "outputs": [],
   "source": [
    "training_dir = os.path.abspath(\"/scratch/lt2326-2926-h24/ThaiOCR/ThaiOCR-TrainigSet\")"
   ]
  },
  {
   "cell_type": "code",
   "execution_count": 82,
   "metadata": {},
   "outputs": [
    {
     "data": {
      "text/plain": [
       "1"
      ]
     },
     "execution_count": 82,
     "metadata": {},
     "output_type": "execute_result"
    }
   ],
   "source": [
    "a = (\"ddsdsad\",)\n",
    "len(a)"
   ]
  },
  {
   "cell_type": "code",
   "execution_count": 83,
   "metadata": {},
   "outputs": [
    {
     "name": "stdout",
     "output_type": "stream",
     "text": [
      "Generating data splits for combined Thai + English...\n",
      "If a single subset is sought, run with 'Thai', 'English', 'Special', or 'Numeric' as arg 1.\n"
     ]
    },
    {
     "ename": "ValueError",
     "evalue": "too many values to unpack (expected 3)",
     "output_type": "error",
     "traceback": [
      "\u001b[0;31m---------------------------------------------------------------------------\u001b[0m",
      "\u001b[0;31mValueError\u001b[0m                                Traceback (most recent call last)",
      "Cell \u001b[0;32mIn[83], line 1\u001b[0m\n\u001b[0;32m----> 1\u001b[0m df, train, walking \u001b[38;5;241m=\u001b[39m generate_split(training_dir)\n",
      "\u001b[0;31mValueError\u001b[0m: too many values to unpack (expected 3)"
     ]
    }
   ],
   "source": [
    "df, train, walking = generate_split(training_dir)\n"
   ]
  },
  {
   "cell_type": "code",
   "execution_count": 4,
   "metadata": {},
   "outputs": [],
   "source": [
    "subset_splits = []"
   ]
  },
  {
   "cell_type": "code",
   "execution_count": null,
   "metadata": {},
   "outputs": [],
   "source": [
    "subset_splits.append([((),), ('engtestlabel', 'engtestpic'), ('engvallabel', 'engvalpic')])\n",
    "subset_splits.append([('thaitrainlabel', 'thaitrainpic'), ('thaitestlabel', 'thaitestpic'), ('thaivallabel', 'thaivalpic')])"
   ]
  },
  {
   "cell_type": "code",
   "execution_count": 5,
   "metadata": {},
   "outputs": [],
   "source": [
    "subset_splits.append([('engtrainlabel', 'engtrainpic'), ('engtestlabel', 'engtestpic'), ('engvallabel', 'engvalpic')])\n",
    "subset_splits.append([('thaitrainlabel', 'thaitrainpic'), ('thaitestlabel', 'thaitestpic'), ('thaivallabel', 'thaivalpic')])"
   ]
  },
  {
   "cell_type": "code",
   "execution_count": 6,
   "metadata": {},
   "outputs": [],
   "source": [
    "\n",
    "\n",
    "zipped = list(zip(*subset_splits))\n",
    "\n",
    "#list(zip(subset_splits))"
   ]
  },
  {
   "cell_type": "code",
   "execution_count": 7,
   "metadata": {},
   "outputs": [
    {
     "data": {
      "text/plain": [
       "[(('engtrainlabel', 'engtrainpic'), ('thaitrainlabel', 'thaitrainpic')),\n",
       " (('engtestlabel', 'engtestpic'), ('thaitestlabel', 'thaitestpic')),\n",
       " (('engvallabel', 'engvalpic'), ('thaivallabel', 'thaivalpic'))]"
      ]
     },
     "execution_count": 7,
     "metadata": {},
     "output_type": "execute_result"
    }
   ],
   "source": [
    "zipped"
   ]
  },
  {
   "cell_type": "code",
   "execution_count": 40,
   "metadata": {},
   "outputs": [
    {
     "data": {
      "text/plain": [
       "('etrain', 'ttrain')"
      ]
     },
     "execution_count": 40,
     "metadata": {},
     "output_type": "execute_result"
    }
   ],
   "source": [
    "zipped[0]"
   ]
  },
  {
   "cell_type": "code",
   "execution_count": 41,
   "metadata": {},
   "outputs": [
    {
     "data": {
      "text/plain": [
       "2"
      ]
     },
     "execution_count": 41,
     "metadata": {},
     "output_type": "execute_result"
    }
   ],
   "source": [
    "len(zipped[0])"
   ]
  },
  {
   "cell_type": "code",
   "execution_count": 8,
   "metadata": {},
   "outputs": [],
   "source": [
    "\n",
    "\n",
    "data_split = [tuple(chain(*split)) for split in zip(*subset_splits)]\n",
    "\n",
    "#numbers = list(chain(odd, even))"
   ]
  },
  {
   "cell_type": "code",
   "execution_count": 9,
   "metadata": {},
   "outputs": [
    {
     "data": {
      "text/plain": [
       "[('engtrainlabel', 'engtrainpic', 'thaitrainlabel', 'thaitrainpic'),\n",
       " ('engtestlabel', 'engtestpic', 'thaitestlabel', 'thaitestpic'),\n",
       " ('engvallabel', 'engvalpic', 'thaivallabel', 'thaivalpic')]"
      ]
     },
     "execution_count": 9,
     "metadata": {},
     "output_type": "execute_result"
    }
   ],
   "source": [
    "data_split"
   ]
  },
  {
   "cell_type": "code",
   "execution_count": null,
   "metadata": {},
   "outputs": [],
   "source": [
    "[train, test, valid list(zip(*subset_splits))]"
   ]
  },
  {
   "cell_type": "code",
   "execution_count": 22,
   "metadata": {},
   "outputs": [
    {
     "data": {
      "text/plain": [
       "[('etrain', 'ttrain'), ('etest', 'ttest'), ('eval', 'teval')]"
      ]
     },
     "execution_count": 22,
     "metadata": {},
     "output_type": "execute_result"
    }
   ],
   "source": [
    "list(zip(('etrain', 'etest', 'eval'), ('ttrain', 'ttest', 'teval')))"
   ]
  },
  {
   "cell_type": "code",
   "execution_count": null,
   "metadata": {},
   "outputs": [],
   "source": []
  },
  {
   "cell_type": "code",
   "execution_count": 56,
   "metadata": {},
   "outputs": [
    {
     "data": {
      "text/html": [
       "<div>\n",
       "<style scoped>\n",
       "    .dataframe tbody tr th:only-of-type {\n",
       "        vertical-align: middle;\n",
       "    }\n",
       "\n",
       "    .dataframe tbody tr th {\n",
       "        vertical-align: top;\n",
       "    }\n",
       "\n",
       "    .dataframe thead th {\n",
       "        text-align: right;\n",
       "    }\n",
       "</style>\n",
       "<table border=\"1\" class=\"dataframe\">\n",
       "  <thead>\n",
       "    <tr style=\"text-align: right;\">\n",
       "      <th></th>\n",
       "      <th>KKTS211_200_41_08_199.bmp</th>\n",
       "      <th>PPTS211_200_41_10_199.bmp</th>\n",
       "      <th>Cdts213_200_41_22_199.bmp</th>\n",
       "      <th>Cdts212_200_41_18_199.bmp</th>\n",
       "      <th>Cdtb213_200_40_20_199.bmp</th>\n",
       "      <th>Ects211_200_41_08_199.bmp</th>\n",
       "      <th>FSTB213_200_40_22_199.bmp</th>\n",
       "      <th>KKTB212_200_40_22_199.bmp</th>\n",
       "      <th>IRTB213_200_40_22_199.bmp</th>\n",
       "      <th>PPTB212_200_40_16_199.bmp</th>\n",
       "      <th>...</th>\n",
       "      <th>BWEB311_300_10_08_075.bmp</th>\n",
       "      <th>DLES322_300_11_16_075.bmp</th>\n",
       "      <th>JMEB311_300_10_08_075.bmp</th>\n",
       "      <th>JMEB321_300_10_10_075.bmp</th>\n",
       "      <th>KKES312_300_11_18_075.bmp</th>\n",
       "      <th>CDES322_300_11_16_075.bmp</th>\n",
       "      <th>ASEB321_300_10_10_075.bmp</th>\n",
       "      <th>ASES323_300_11_22_075.bmp</th>\n",
       "      <th>DLEB311_300_10_14_075.bmp</th>\n",
       "      <th>BWEB321_300_10_10_075.bmp</th>\n",
       "    </tr>\n",
       "  </thead>\n",
       "  <tbody>\n",
       "    <tr>\n",
       "      <th>label</th>\n",
       "      <td>199</td>\n",
       "      <td>199</td>\n",
       "      <td>199</td>\n",
       "      <td>199</td>\n",
       "      <td>199</td>\n",
       "      <td>199</td>\n",
       "      <td>199</td>\n",
       "      <td>199</td>\n",
       "      <td>199</td>\n",
       "      <td>199</td>\n",
       "      <td>...</td>\n",
       "      <td>075</td>\n",
       "      <td>075</td>\n",
       "      <td>075</td>\n",
       "      <td>075</td>\n",
       "      <td>075</td>\n",
       "      <td>075</td>\n",
       "      <td>075</td>\n",
       "      <td>075</td>\n",
       "      <td>075</td>\n",
       "      <td>075</td>\n",
       "    </tr>\n",
       "    <tr>\n",
       "      <th>dpi</th>\n",
       "      <td>200</td>\n",
       "      <td>200</td>\n",
       "      <td>200</td>\n",
       "      <td>200</td>\n",
       "      <td>200</td>\n",
       "      <td>200</td>\n",
       "      <td>200</td>\n",
       "      <td>200</td>\n",
       "      <td>200</td>\n",
       "      <td>200</td>\n",
       "      <td>...</td>\n",
       "      <td>300</td>\n",
       "      <td>300</td>\n",
       "      <td>300</td>\n",
       "      <td>300</td>\n",
       "      <td>300</td>\n",
       "      <td>300</td>\n",
       "      <td>300</td>\n",
       "      <td>300</td>\n",
       "      <td>300</td>\n",
       "      <td>300</td>\n",
       "    </tr>\n",
       "    <tr>\n",
       "      <th>typeface</th>\n",
       "      <td>bold_italic</td>\n",
       "      <td>bold_italic</td>\n",
       "      <td>bold_italic</td>\n",
       "      <td>bold_italic</td>\n",
       "      <td>bold_italic</td>\n",
       "      <td>bold_italic</td>\n",
       "      <td>bold_italic</td>\n",
       "      <td>bold_italic</td>\n",
       "      <td>bold_italic</td>\n",
       "      <td>bold_italic</td>\n",
       "      <td>...</td>\n",
       "      <td>normal</td>\n",
       "      <td>normal</td>\n",
       "      <td>normal</td>\n",
       "      <td>normal</td>\n",
       "      <td>normal</td>\n",
       "      <td>normal</td>\n",
       "      <td>normal</td>\n",
       "      <td>normal</td>\n",
       "      <td>normal</td>\n",
       "      <td>normal</td>\n",
       "    </tr>\n",
       "  </tbody>\n",
       "</table>\n",
       "<p>3 rows × 489157 columns</p>\n",
       "</div>"
      ],
      "text/plain": [
       "         KKTS211_200_41_08_199.bmp PPTS211_200_41_10_199.bmp  \\\n",
       "label                          199                       199   \n",
       "dpi                            200                       200   \n",
       "typeface               bold_italic               bold_italic   \n",
       "\n",
       "         Cdts213_200_41_22_199.bmp Cdts212_200_41_18_199.bmp  \\\n",
       "label                          199                       199   \n",
       "dpi                            200                       200   \n",
       "typeface               bold_italic               bold_italic   \n",
       "\n",
       "         Cdtb213_200_40_20_199.bmp Ects211_200_41_08_199.bmp  \\\n",
       "label                          199                       199   \n",
       "dpi                            200                       200   \n",
       "typeface               bold_italic               bold_italic   \n",
       "\n",
       "         FSTB213_200_40_22_199.bmp KKTB212_200_40_22_199.bmp  \\\n",
       "label                          199                       199   \n",
       "dpi                            200                       200   \n",
       "typeface               bold_italic               bold_italic   \n",
       "\n",
       "         IRTB213_200_40_22_199.bmp PPTB212_200_40_16_199.bmp  ...  \\\n",
       "label                          199                       199  ...   \n",
       "dpi                            200                       200  ...   \n",
       "typeface               bold_italic               bold_italic  ...   \n",
       "\n",
       "         BWEB311_300_10_08_075.bmp DLES322_300_11_16_075.bmp  \\\n",
       "label                          075                       075   \n",
       "dpi                            300                       300   \n",
       "typeface                    normal                    normal   \n",
       "\n",
       "         JMEB311_300_10_08_075.bmp JMEB321_300_10_10_075.bmp  \\\n",
       "label                          075                       075   \n",
       "dpi                            300                       300   \n",
       "typeface                    normal                    normal   \n",
       "\n",
       "         KKES312_300_11_18_075.bmp CDES322_300_11_16_075.bmp  \\\n",
       "label                          075                       075   \n",
       "dpi                            300                       300   \n",
       "typeface                    normal                    normal   \n",
       "\n",
       "         ASEB321_300_10_10_075.bmp ASES323_300_11_22_075.bmp  \\\n",
       "label                          075                       075   \n",
       "dpi                            300                       300   \n",
       "typeface                    normal                    normal   \n",
       "\n",
       "         DLEB311_300_10_14_075.bmp BWEB321_300_10_10_075.bmp  \n",
       "label                          075                       075  \n",
       "dpi                            300                       300  \n",
       "typeface                    normal                    normal  \n",
       "\n",
       "[3 rows x 489157 columns]"
      ]
     },
     "execution_count": 56,
     "metadata": {},
     "output_type": "execute_result"
    }
   ],
   "source": [
    "df"
   ]
  },
  {
   "cell_type": "code",
   "execution_count": 57,
   "metadata": {},
   "outputs": [
    {
     "data": {
      "text/html": [
       "<div>\n",
       "<style scoped>\n",
       "    .dataframe tbody tr th:only-of-type {\n",
       "        vertical-align: middle;\n",
       "    }\n",
       "\n",
       "    .dataframe tbody tr th {\n",
       "        vertical-align: top;\n",
       "    }\n",
       "\n",
       "    .dataframe thead th {\n",
       "        text-align: right;\n",
       "    }\n",
       "</style>\n",
       "<table border=\"1\" class=\"dataframe\">\n",
       "  <thead>\n",
       "    <tr style=\"text-align: right;\">\n",
       "      <th></th>\n",
       "      <th>KKTS211_200_41_08_199.bmp</th>\n",
       "      <th>PPTS211_200_41_10_199.bmp</th>\n",
       "      <th>Cdts213_200_41_22_199.bmp</th>\n",
       "      <th>Cdts212_200_41_18_199.bmp</th>\n",
       "      <th>Cdtb213_200_40_20_199.bmp</th>\n",
       "      <th>Ects211_200_41_08_199.bmp</th>\n",
       "      <th>FSTB213_200_40_22_199.bmp</th>\n",
       "      <th>KKTB212_200_40_22_199.bmp</th>\n",
       "      <th>IRTB213_200_40_22_199.bmp</th>\n",
       "      <th>PPTB212_200_40_16_199.bmp</th>\n",
       "      <th>...</th>\n",
       "      <th>BWEB311_300_10_08_075.bmp</th>\n",
       "      <th>DLES322_300_11_16_075.bmp</th>\n",
       "      <th>JMEB311_300_10_08_075.bmp</th>\n",
       "      <th>JMEB321_300_10_10_075.bmp</th>\n",
       "      <th>KKES312_300_11_18_075.bmp</th>\n",
       "      <th>CDES322_300_11_16_075.bmp</th>\n",
       "      <th>ASEB321_300_10_10_075.bmp</th>\n",
       "      <th>ASES323_300_11_22_075.bmp</th>\n",
       "      <th>DLEB311_300_10_14_075.bmp</th>\n",
       "      <th>BWEB321_300_10_10_075.bmp</th>\n",
       "    </tr>\n",
       "  </thead>\n",
       "  <tbody>\n",
       "    <tr>\n",
       "      <th>typeface</th>\n",
       "      <td>bold_italic</td>\n",
       "      <td>bold_italic</td>\n",
       "      <td>bold_italic</td>\n",
       "      <td>bold_italic</td>\n",
       "      <td>bold_italic</td>\n",
       "      <td>bold_italic</td>\n",
       "      <td>bold_italic</td>\n",
       "      <td>bold_italic</td>\n",
       "      <td>bold_italic</td>\n",
       "      <td>bold_italic</td>\n",
       "      <td>...</td>\n",
       "      <td>normal</td>\n",
       "      <td>normal</td>\n",
       "      <td>normal</td>\n",
       "      <td>normal</td>\n",
       "      <td>normal</td>\n",
       "      <td>normal</td>\n",
       "      <td>normal</td>\n",
       "      <td>normal</td>\n",
       "      <td>normal</td>\n",
       "      <td>normal</td>\n",
       "    </tr>\n",
       "    <tr>\n",
       "      <th>dpi</th>\n",
       "      <td>200</td>\n",
       "      <td>200</td>\n",
       "      <td>200</td>\n",
       "      <td>200</td>\n",
       "      <td>200</td>\n",
       "      <td>200</td>\n",
       "      <td>200</td>\n",
       "      <td>200</td>\n",
       "      <td>200</td>\n",
       "      <td>200</td>\n",
       "      <td>...</td>\n",
       "      <td>300</td>\n",
       "      <td>300</td>\n",
       "      <td>300</td>\n",
       "      <td>300</td>\n",
       "      <td>300</td>\n",
       "      <td>300</td>\n",
       "      <td>300</td>\n",
       "      <td>300</td>\n",
       "      <td>300</td>\n",
       "      <td>300</td>\n",
       "    </tr>\n",
       "  </tbody>\n",
       "</table>\n",
       "<p>2 rows × 489157 columns</p>\n",
       "</div>"
      ],
      "text/plain": [
       "         KKTS211_200_41_08_199.bmp PPTS211_200_41_10_199.bmp  \\\n",
       "typeface               bold_italic               bold_italic   \n",
       "dpi                            200                       200   \n",
       "\n",
       "         Cdts213_200_41_22_199.bmp Cdts212_200_41_18_199.bmp  \\\n",
       "typeface               bold_italic               bold_italic   \n",
       "dpi                            200                       200   \n",
       "\n",
       "         Cdtb213_200_40_20_199.bmp Ects211_200_41_08_199.bmp  \\\n",
       "typeface               bold_italic               bold_italic   \n",
       "dpi                            200                       200   \n",
       "\n",
       "         FSTB213_200_40_22_199.bmp KKTB212_200_40_22_199.bmp  \\\n",
       "typeface               bold_italic               bold_italic   \n",
       "dpi                            200                       200   \n",
       "\n",
       "         IRTB213_200_40_22_199.bmp PPTB212_200_40_16_199.bmp  ...  \\\n",
       "typeface               bold_italic               bold_italic  ...   \n",
       "dpi                            200                       200  ...   \n",
       "\n",
       "         BWEB311_300_10_08_075.bmp DLES322_300_11_16_075.bmp  \\\n",
       "typeface                    normal                    normal   \n",
       "dpi                            300                       300   \n",
       "\n",
       "         JMEB311_300_10_08_075.bmp JMEB321_300_10_10_075.bmp  \\\n",
       "typeface                    normal                    normal   \n",
       "dpi                            300                       300   \n",
       "\n",
       "         KKES312_300_11_18_075.bmp CDES322_300_11_16_075.bmp  \\\n",
       "typeface                    normal                    normal   \n",
       "dpi                            300                       300   \n",
       "\n",
       "         ASEB321_300_10_10_075.bmp ASES323_300_11_22_075.bmp  \\\n",
       "typeface                    normal                    normal   \n",
       "dpi                            300                       300   \n",
       "\n",
       "         DLEB311_300_10_14_075.bmp BWEB321_300_10_10_075.bmp  \n",
       "typeface                    normal                    normal  \n",
       "dpi                            300                       300  \n",
       "\n",
       "[2 rows x 489157 columns]"
      ]
     },
     "execution_count": 57,
     "metadata": {},
     "output_type": "execute_result"
    }
   ],
   "source": [
    "train"
   ]
  },
  {
   "cell_type": "code",
   "execution_count": 58,
   "metadata": {},
   "outputs": [],
   "source": [
    "thai = ThaiOCRData('thai')"
   ]
  },
  {
   "cell_type": "code",
   "execution_count": 59,
   "metadata": {},
   "outputs": [
    {
     "ename": "AttributeError",
     "evalue": "'ThaiOCRData' object has no attribute 'data_dict'",
     "output_type": "error",
     "traceback": [
      "\u001b[0;31m---------------------------------------------------------------------------\u001b[0m",
      "\u001b[0;31mAttributeError\u001b[0m                            Traceback (most recent call last)",
      "Cell \u001b[0;32mIn[59], line 1\u001b[0m\n\u001b[0;32m----> 1\u001b[0m \u001b[38;5;28;43mlen\u001b[39;49m\u001b[43m(\u001b[49m\u001b[43mthai\u001b[49m\u001b[43m)\u001b[49m\n",
      "File \u001b[0;32m/srv/data/gusvjotvan/ML2/ML2.py:144\u001b[0m, in \u001b[0;36m__len__\u001b[0;34m(self)\u001b[0m\n\u001b[1;32m      0\u001b[0m <Error retrieving source code with stack_data see ipython/ipython#13598>\n",
      "\u001b[0;31mAttributeError\u001b[0m: 'ThaiOCRData' object has no attribute 'data_dict'"
     ]
    }
   ],
   "source": [
    "len(thai)"
   ]
  },
  {
   "cell_type": "code",
   "execution_count": 16,
   "metadata": {},
   "outputs": [
    {
     "data": {
      "text/plain": [
       "['__add__',\n",
       " '__annotations__',\n",
       " '__class__',\n",
       " '__class_getitem__',\n",
       " '__delattr__',\n",
       " '__dict__',\n",
       " '__dir__',\n",
       " '__doc__',\n",
       " '__eq__',\n",
       " '__format__',\n",
       " '__ge__',\n",
       " '__getattribute__',\n",
       " '__getitem__',\n",
       " '__getstate__',\n",
       " '__gt__',\n",
       " '__hash__',\n",
       " '__init__',\n",
       " '__init_subclass__',\n",
       " '__le__',\n",
       " '__len__',\n",
       " '__lt__',\n",
       " '__module__',\n",
       " '__ne__',\n",
       " '__new__',\n",
       " '__orig_bases__',\n",
       " '__parameters__',\n",
       " '__reduce__',\n",
       " '__reduce_ex__',\n",
       " '__repr__',\n",
       " '__setattr__',\n",
       " '__sizeof__',\n",
       " '__str__',\n",
       " '__subclasshook__',\n",
       " '__weakref__']"
      ]
     },
     "execution_count": 16,
     "metadata": {},
     "output_type": "execute_result"
    }
   ],
   "source": [
    "dir(thai)"
   ]
  },
  {
   "cell_type": "code",
   "execution_count": null,
   "metadata": {},
   "outputs": [],
   "source": []
  }
 ],
 "metadata": {
  "kernelspec": {
   "display_name": "Python 3",
   "language": "python",
   "name": "python3"
  },
  "language_info": {
   "codemirror_mode": {
    "name": "ipython",
    "version": 3
   },
   "file_extension": ".py",
   "mimetype": "text/x-python",
   "name": "python",
   "nbconvert_exporter": "python",
   "pygments_lexer": "ipython3",
   "version": "3.12.3"
  }
 },
 "nbformat": 4,
 "nbformat_minor": 2
}
